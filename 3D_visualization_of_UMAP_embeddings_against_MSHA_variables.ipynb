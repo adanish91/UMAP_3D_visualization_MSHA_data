{
 "cells": [
  {
   "cell_type": "markdown",
   "id": "a1b58381-aaee-42a6-be75-cce0993a3ece",
   "metadata": {},
   "source": [
    "# 3D visualization of UMAP embeddings with respect to different MSHA variables"
   ]
  },
  {
   "cell_type": "markdown",
   "id": "49c52a2d-1a37-45ef-9f99-1e1b8df93d94",
   "metadata": {},
   "source": [
    "## Load Data"
   ]
  },
  {
   "cell_type": "code",
   "execution_count": 14,
   "id": "e1e18a3f-4bed-4f29-bd97-5cf28dbc7b19",
   "metadata": {},
   "outputs": [
    {
     "data": {
      "text/html": [
       "<div>\n",
       "<style scoped>\n",
       "    .dataframe tbody tr th:only-of-type {\n",
       "        vertical-align: middle;\n",
       "    }\n",
       "\n",
       "    .dataframe tbody tr th {\n",
       "        vertical-align: top;\n",
       "    }\n",
       "\n",
       "    .dataframe thead th {\n",
       "        text-align: right;\n",
       "    }\n",
       "</style>\n",
       "<table border=\"1\" class=\"dataframe\">\n",
       "  <thead>\n",
       "    <tr style=\"text-align: right;\">\n",
       "      <th></th>\n",
       "      <th>SUBUNIT</th>\n",
       "      <th>MINING_EQUIP</th>\n",
       "      <th>CLASSIFICATION</th>\n",
       "      <th>ACCIDENT_TYPE</th>\n",
       "      <th>INJURY_SOURCE</th>\n",
       "      <th>NATURE_INJURY</th>\n",
       "      <th>INJ_BODY_PART</th>\n",
       "      <th>DEGREE_INJURY</th>\n",
       "      <th>CAL_YR</th>\n",
       "      <th>MINING_EQUIP_C</th>\n",
       "      <th>...</th>\n",
       "      <th>umap1_2D_variables_only</th>\n",
       "      <th>umap2_2D_variables_only</th>\n",
       "      <th>umap1_reduced_embeddings_only_text_variables</th>\n",
       "      <th>umap2_reduced_embeddings_only_text_variables</th>\n",
       "      <th>umap3_reduced_embeddings_only_text_variables</th>\n",
       "      <th>9cluster_kmeans_merged_narratives</th>\n",
       "      <th>9cluster_kmeans_only_variables</th>\n",
       "      <th>9cluster_kmeans_only_narratives</th>\n",
       "      <th>sub_cluster_9cluster_kmeans_merged_narratives</th>\n",
       "      <th>final_clusters</th>\n",
       "    </tr>\n",
       "  </thead>\n",
       "  <tbody>\n",
       "    <tr>\n",
       "      <th>0</th>\n",
       "      <td>Mill Operation/Preparation plant</td>\n",
       "      <td>Bench grinder, drill press, Band/Table saw, Sa...</td>\n",
       "      <td>Machinery</td>\n",
       "      <td>Struck against stationary object</td>\n",
       "      <td>Metal, NEC (pipe, wire, nail)</td>\n",
       "      <td>Cut, Lacer, Punct-Opn wound</td>\n",
       "      <td>Finger (s) /Thumb</td>\n",
       "      <td>NO DYS AWY FRM WRK,NO RSTR ACT</td>\n",
       "      <td>2003</td>\n",
       "      <td>6.0</td>\n",
       "      <td>...</td>\n",
       "      <td>-6.036556</td>\n",
       "      <td>-1.213370</td>\n",
       "      <td>13.431704</td>\n",
       "      <td>5.581674</td>\n",
       "      <td>6.384573</td>\n",
       "      <td>4</td>\n",
       "      <td>3</td>\n",
       "      <td>3</td>\n",
       "      <td>4.1</td>\n",
       "      <td>2</td>\n",
       "    </tr>\n",
       "    <tr>\n",
       "      <th>1</th>\n",
       "      <td>Strip, Quary, open pit</td>\n",
       "      <td>no_value</td>\n",
       "      <td>Handling of materials</td>\n",
       "      <td>Over-Exertion in lifting objects</td>\n",
       "      <td>Broken rock, coal, ore, Wste</td>\n",
       "      <td>Sprain, strain Rupt disc</td>\n",
       "      <td>Forearm/Ulnar/Radius</td>\n",
       "      <td>DAYS RESTRICTED ACTIVITY ONLY</td>\n",
       "      <td>2003</td>\n",
       "      <td>7.0</td>\n",
       "      <td>...</td>\n",
       "      <td>0.715287</td>\n",
       "      <td>16.372698</td>\n",
       "      <td>3.784758</td>\n",
       "      <td>-1.646330</td>\n",
       "      <td>-4.721196</td>\n",
       "      <td>1</td>\n",
       "      <td>0</td>\n",
       "      <td>0</td>\n",
       "      <td>1.1</td>\n",
       "      <td>6</td>\n",
       "    </tr>\n",
       "  </tbody>\n",
       "</table>\n",
       "<p>2 rows × 34 columns</p>\n",
       "</div>"
      ],
      "text/plain": [
       "                            SUBUNIT  \\\n",
       "0  Mill Operation/Preparation plant   \n",
       "1            Strip, Quary, open pit   \n",
       "\n",
       "                                        MINING_EQUIP         CLASSIFICATION  \\\n",
       "0  Bench grinder, drill press, Band/Table saw, Sa...              Machinery   \n",
       "1                                           no_value  Handling of materials   \n",
       "\n",
       "                      ACCIDENT_TYPE                  INJURY_SOURCE  \\\n",
       "0  Struck against stationary object  Metal, NEC (pipe, wire, nail)   \n",
       "1  Over-Exertion in lifting objects   Broken rock, coal, ore, Wste   \n",
       "\n",
       "                 NATURE_INJURY         INJ_BODY_PART  \\\n",
       "0  Cut, Lacer, Punct-Opn wound     Finger (s) /Thumb   \n",
       "1     Sprain, strain Rupt disc  Forearm/Ulnar/Radius   \n",
       "\n",
       "                    DEGREE_INJURY  CAL_YR  MINING_EQUIP_C  ...  \\\n",
       "0  NO DYS AWY FRM WRK,NO RSTR ACT    2003             6.0  ...   \n",
       "1   DAYS RESTRICTED ACTIVITY ONLY    2003             7.0  ...   \n",
       "\n",
       "   umap1_2D_variables_only  umap2_2D_variables_only  \\\n",
       "0                -6.036556                -1.213370   \n",
       "1                 0.715287                16.372698   \n",
       "\n",
       "  umap1_reduced_embeddings_only_text_variables  \\\n",
       "0                                    13.431704   \n",
       "1                                     3.784758   \n",
       "\n",
       "  umap2_reduced_embeddings_only_text_variables  \\\n",
       "0                                     5.581674   \n",
       "1                                    -1.646330   \n",
       "\n",
       "   umap3_reduced_embeddings_only_text_variables  \\\n",
       "0                                      6.384573   \n",
       "1                                     -4.721196   \n",
       "\n",
       "   9cluster_kmeans_merged_narratives  9cluster_kmeans_only_variables  \\\n",
       "0                                  4                               3   \n",
       "1                                  1                               0   \n",
       "\n",
       "   9cluster_kmeans_only_narratives  \\\n",
       "0                                3   \n",
       "1                                0   \n",
       "\n",
       "   sub_cluster_9cluster_kmeans_merged_narratives  final_clusters  \n",
       "0                                            4.1               2  \n",
       "1                                            1.1               6  \n",
       "\n",
       "[2 rows x 34 columns]"
      ]
     },
     "execution_count": 14,
     "metadata": {},
     "output_type": "execute_result"
    }
   ],
   "source": [
    "import pandas as pd\n",
    "import warnings \n",
    "warnings.filterwarnings(\"ignore\")\n",
    "\n",
    "data = pd.read_csv('data_with_kmeans_cluster_labels_and_umap_embeddings_of_different_scenarios.csv')\n",
    "data.head(2)"
   ]
  },
  {
   "cell_type": "code",
   "execution_count": 3,
   "id": "50b5d4b8-161a-45f3-8432-987b7a8cb165",
   "metadata": {},
   "outputs": [],
   "source": [
    "import numpy as np\n",
    "\n",
    "data.replace(np.nan, '', regex=True, inplace=True)"
   ]
  },
  {
   "cell_type": "code",
   "execution_count": 4,
   "id": "6cb6c6c1-ce2d-4cf3-afa8-ca86942a58dc",
   "metadata": {},
   "outputs": [
    {
     "data": {
      "text/plain": [
       "248873"
      ]
     },
     "execution_count": 4,
     "metadata": {},
     "output_type": "execute_result"
    }
   ],
   "source": [
    "len(data)"
   ]
  },
  {
   "cell_type": "markdown",
   "id": "ded41aa4-2df7-4b5c-93f7-b88fb303c5cf",
   "metadata": {},
   "source": [
    "## Visualization function"
   ]
  },
  {
   "cell_type": "code",
   "execution_count": 10,
   "id": "2a5be8ca-ac59-416c-9423-5767d9270d36",
   "metadata": {},
   "outputs": [],
   "source": [
    "import plotly.express as px\n",
    "\n",
    "def chart(X, color):\n",
    "    # Create a 3D graph\n",
    "    fig = px.scatter_3d(X, x=X[:,0], y=X[:,1], z=X[:,2], color=color, height=900, width=950)\n",
    "\n",
    "    # Update chart looks\n",
    "    fig.update_layout(title='Narratives embeddings',\n",
    "                      showlegend=True,\n",
    "                      legend=dict(orientation=\"h\", yanchor=\"top\", y=0, xanchor=\"center\", x=0.5),\n",
    "                      scene_camera=dict(up=dict(x=0, y=0, z=1), \n",
    "                                            center=dict(x=0, y=0, z=-0.1),\n",
    "                                            eye=dict(x=1.5, y=-1.4, z=0.5)),\n",
    "                                            margin=dict(l=0, r=0, b=0, t=0),\n",
    "                      scene = dict(xaxis=dict(backgroundcolor='white',\n",
    "                                              color='black',\n",
    "                                              gridcolor='#f0f0f0',\n",
    "                                              title_font=dict(size=10),\n",
    "                                              tickfont=dict(size=10),\n",
    "                                             ),\n",
    "                                   yaxis=dict(backgroundcolor='white',\n",
    "                                              color='black',\n",
    "                                              gridcolor='#f0f0f0',\n",
    "                                              title_font=dict(size=10),\n",
    "                                              tickfont=dict(size=10),\n",
    "                                              ),\n",
    "                                   zaxis=dict(backgroundcolor='lightgrey',\n",
    "                                              color='black', \n",
    "                                              gridcolor='#f0f0f0',\n",
    "                                              title_font=dict(size=10),\n",
    "                                              tickfont=dict(size=10),\n",
    "                                             )))\n",
    "    # Update marker size\n",
    "    fig.update_traces(marker=dict(size=3, line=dict(color='black', width=0.1)))\n",
    "    fig.show()\n",
    "    #fig.write_html(\"variable_name.html\")"
   ]
  },
  {
   "cell_type": "code",
   "execution_count": 11,
   "id": "24fd621b-bfda-41b3-bba8-4ca9cc0d3338",
   "metadata": {},
   "outputs": [
    {
     "data": {
      "text/plain": [
       "Index(['SUBUNIT', 'MINING_EQUIP', 'CLASSIFICATION', 'ACCIDENT_TYPE',\n",
       "       'INJURY_SOURCE', 'NATURE_INJURY', 'INJ_BODY_PART', 'DEGREE_INJURY',\n",
       "       'CAL_YR', 'MINING_EQUIP_C', 'INJ_BODY_PART_C', 'ACCIDENT_TYPE_C',\n",
       "       'NARRATIVE', 'MERGERED_NARRATIVE', 'umap1_2D_combined_text',\n",
       "       'umap2_2D_combined_text', 'umap1_reduced_combined_text',\n",
       "       'umap2_reduced_combined_text', 'umap3_reduced_combined_text',\n",
       "       'umap1_2D_narratives_only', 'umap2_2D_narratives_only',\n",
       "       'umap1_reduced_narratives_only', 'umap2_reduced_narratives_only',\n",
       "       'umap3_reduced_narratives_only', 'umap1_2D_variables_only',\n",
       "       'umap2_2D_variables_only',\n",
       "       'umap1_reduced_embeddings_only_text_variables',\n",
       "       'umap2_reduced_embeddings_only_text_variables',\n",
       "       'umap3_reduced_embeddings_only_text_variables',\n",
       "       '9cluster_kmeans_merged_narratives', '9cluster_kmeans_only_variables',\n",
       "       '9cluster_kmeans_only_narratives',\n",
       "       'sub_cluster_9cluster_kmeans_merged_narratives', 'final_clusters'],\n",
       "      dtype='object')"
      ]
     },
     "execution_count": 11,
     "metadata": {},
     "output_type": "execute_result"
    }
   ],
   "source": [
    "data.columns"
   ]
  },
  {
   "cell_type": "markdown",
   "id": "9a12d25e-68e0-4de6-a371-864f105463cf",
   "metadata": {},
   "source": [
    "## User can change the variable name in below function to visualize any variable against the low-dimensional UMAP embeddings\n",
    "### for example in following function MINING_EQUIP_C is visualized against UMAP 3D embeddings and it can be changed to INJ_BODY_PART_C\n",
    "### to visualize that variable"
   ]
  },
  {
   "cell_type": "code",
   "execution_count": 19,
   "id": "12a934ea-34fe-48fc-9291-dd3dee77db6f",
   "metadata": {},
   "outputs": [],
   "source": [
    "# chart(data[~data['MINING_EQUIP_C'].isna()][['umap1_reduced_combined_text', 'umap2_reduced_combined_text', 'umap3_reduced_combined_text']].values, data[~data['MINING_EQUIP_C'].isna()]['MINING_EQUIP_C'])"
   ]
  }
 ],
 "metadata": {
  "kernelspec": {
   "display_name": "Python 3 (ipykernel)",
   "language": "python",
   "name": "python3"
  },
  "language_info": {
   "codemirror_mode": {
    "name": "ipython",
    "version": 3
   },
   "file_extension": ".py",
   "mimetype": "text/x-python",
   "name": "python",
   "nbconvert_exporter": "python",
   "pygments_lexer": "ipython3",
   "version": "3.11.7"
  }
 },
 "nbformat": 4,
 "nbformat_minor": 5
}
